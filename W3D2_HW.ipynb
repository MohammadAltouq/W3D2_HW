{
 "cells": [
  {
   "cell_type": "markdown",
   "id": "2f2ae072",
   "metadata": {},
   "source": [
    "# Exercises"
   ]
  },
  {
   "cell_type": "markdown",
   "id": "b4f44253",
   "metadata": {},
   "source": [
    "### Exercise 1 - Turn the shopping cart program from yesterday into an object-oriented program\n",
    "\n",
    "The comments in the cell below are there as a guide for thinking about the problem. However, if you feel a different way is best for you and your own thought process, please do what feels best for you by all means."
   ]
  },
  {
   "cell_type": "code",
   "execution_count": null,
   "id": "7c6967ad",
   "metadata": {},
   "outputs": [],
   "source": [
    "# Create a class called cart that retains items and has methods to add, remove, and show\n",
    "\n",
    "class S_cart():\n",
    "    def __init__(self):\n",
    "        self.cart = {}\n",
    "    def add_items(self):\n",
    "        name = input(\"what do you want to add: \")\n",
    "        count =  int(input(\"how many would you like to add: \"))\n",
    "        if name not in self.cart:\n",
    "            self.cart[name] = count\n",
    "        else:\n",
    "            self.cart[name] += count\n",
    "    def remove_items(self):\n",
    "        name = input(\"what do you want to remove: \")\n",
    "        if name in self.cart:\n",
    "            print(f\"you have {self.cart[name]} in the cart\")\n",
    "            count = int(input(\"how many would you like to remove: \"))\n",
    "            if count >= self.cart[name]:\n",
    "                del self.cart[name]\n",
    "            else:\n",
    "                self.cart[name] -= count\n",
    "        else:\n",
    "            print(f\"you don't have {name} in the cart\")\n",
    "    def show_items(self):\n",
    "        print(\"item list\")\n",
    "        print(\"__________\\n\")\n",
    "        for k,v in self.cart.items():\n",
    "            print(f\"{k} : {v}\")\n",
    "        print(\"__________\\n\")\n",
    "def run():\n",
    "    m = S_cart()\n",
    "    while True:\n",
    "        user_input = input(\"Do you want to : Show/Add/Delete or Quit? \")\n",
    "        if user_input.lower().strip() == \"quit\":\n",
    "            if len(m.cart) == 0:\n",
    "                print(\"Order canceled\")\n",
    "                break\n",
    "            else:\n",
    "                m.show_items()\n",
    "                confirm = input(\"Enter 'confirm' to finalize your purchase or enter 'cancel' to delete the cart: \")\n",
    "                if confirm.lower().strip() == \"confirm\":\n",
    "                    print(\"Thank you for your purchase\")\n",
    "                elif confirm.lower().strip() == \"cancel\":\n",
    "                    print(\"Order canceled\")\n",
    "                break\n",
    "        elif user_input.lower().strip() == \"show\":\n",
    "            m.show_items()\n",
    "        elif user_input.lower().strip() == \"add\":\n",
    "            m.add_items()\n",
    "        elif user_input.lower().strip() == \"delete\":\n",
    "            m.remove_items()\n",
    "        else:\n",
    "            print(\"invalid input\")   \n",
    "run()"
   ]
  },
  {
   "cell_type": "markdown",
   "id": "546549e5",
   "metadata": {},
   "source": [
    "### Exercise 2 - Write a Python class which has two methods get_String and print_String. get_String accept a string from the user and print_String print the string in upper case\n"
   ]
  },
  {
   "cell_type": "code",
   "execution_count": null,
   "id": "715667eb",
   "metadata": {},
   "outputs": [],
   "source": [
    "class Test():\n",
    "\n",
    "    def get_String(self):\n",
    "        self.user_input = input(\"Enter the text here: \\n\")\n",
    "         \n",
    "        \n",
    "    def print_String(self):\n",
    "        print(f\"{self.user_input.upper()}\")\n",
    "              \n",
    "user = Test()\n",
    "user.get_String()\n",
    "user.print_String()\n",
    "        "
   ]
  },
  {
   "cell_type": "code",
   "execution_count": null,
   "id": "ccfd4cc5",
   "metadata": {},
   "outputs": [],
   "source": []
  }
 ],
 "metadata": {
  "kernelspec": {
   "display_name": "Python 3 (ipykernel)",
   "language": "python",
   "name": "python3"
  },
  "language_info": {
   "codemirror_mode": {
    "name": "ipython",
    "version": 3
   },
   "file_extension": ".py",
   "mimetype": "text/x-python",
   "name": "python",
   "nbconvert_exporter": "python",
   "pygments_lexer": "ipython3",
   "version": "3.9.13"
  }
 },
 "nbformat": 4,
 "nbformat_minor": 5
}
